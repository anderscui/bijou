{
 "cells": [
  {
   "cell_type": "markdown",
   "metadata": {
    "collapsed": true,
    "pycharm": {
     "name": "#%% md\n"
    }
   },
   "source": [
    "# 豆瓣电影短评分类 - 使用 LSTM\n",
    "\n",
    "## 数据集\n",
    "\n",
    "Dataset: https://www.kaggle.com/utmhikari/doubanmovieshortcomments，共包含212万条评论数据，这里只考虑两个分类，从1星和5星评论中各取10万条。本文的实现主要参考了 [Long Short-Term Memory](https://blog.floydhub.com/long-short-term-memory-from-zero-to-hero-with-pytorch/)。\n",
    "\n",
    "# 如何使用 LSTM\n",
    "\n",
    "关于 LSTM 的工作机制，可以查看[李沐的书](https://zh-v2.d2l.ai/chapter_recurrent-modern/lstm.html)。关于 LSTM 在 PyTorch 中的实现细节，可以查看其[官方文档](https://pytorch.org/docs/1.9.1/generated/torch.nn.LSTM.html)。这里尝试对使用 LSTM 处理文本做一个直观的理解。\n",
    "\n",
    "## Tokenize\n",
    "\n",
    "LSTM 适用于时间序列问题，文本是天然的时间序列。不过这个序列到底是什么并不那么显然。对于英语、法语这样的语言，可以考虑使用\"词\"，对于汉语，则可以考虑使用\"字\"或\"词\"。使用字或词是较为传统的方法，Bert、RoBERTa 等基于 Transformer 架构的模型则使用不同的 Subword 算法。上述这些方法做的事情，都属于 tokenizer，它将文本 tokenize 为一个 token 的序列。本文处理的是汉语的情形，使用最简单的\"字\"序列。\n",
    "\n",
    "有了 token 序列，接下来需要将这些 token 转换为数值表示，最简单的处理方式是收集数据集中的所有 token，为每个 token 分配一个数值 id，这种方式本质上得到的是 one-hot 编码。\n",
    "\n",
    "## Embedding 层\n",
    "\n",
    "one-hot 编码是极其稀疏的，而且 token 的表示与其语义毫无关联，因此通常处理方法是将 one-hot 转换为 word embedding，这正是 `torch.nnEmbedding` 做的事情。"
   ]
  },
  {
   "cell_type": "code",
   "execution_count": 1,
   "outputs": [
    {
     "name": "stdout",
     "output_type": "stream",
     "text": [
      "embedding lookup table: torch.Size([100, 5])\n"
     ]
    },
    {
     "data": {
      "text/plain": "tensor([[-0.2362, -0.7930, -0.3985,  0.2873,  0.9603],\n        [ 1.8757,  0.9257, -0.9709, -0.3830, -0.3318],\n        [ 1.4579,  2.0634, -0.2326, -0.7954,  0.0490]])"
     },
     "execution_count": 1,
     "metadata": {},
     "output_type": "execute_result"
    }
   ],
   "source": [
    "import torch\n",
    "import torch.nn as nn\n",
    "\n",
    "vocab_size = 100\n",
    "embedding_dim = 5\n",
    "\n",
    "embedding = nn.Embedding(vocab_size, embedding_dim)\n",
    "# embedding 是一个 lookup table，它将 `vocab_size` 个 token 分别表示为 `embedding_dim` 大小的向量\n",
    "print(f'embedding lookup table:', embedding.weight.data.shape)\n",
    "\n",
    "# 如果一句话由三个 token 构成，其 id 分别是 [2, 1, 3]\n",
    "sent_token_ids = [2, 1, 3]\n",
    "embedded = embedding(torch.LongTensor(sent_token_ids))\n",
    "\n",
    "# 这句话被表示为 (3, 5) 大小的矩阵\n",
    "embedded.data"
   ],
   "metadata": {
    "collapsed": false,
    "pycharm": {
     "name": "#%%\n"
    }
   }
  },
  {
   "cell_type": "markdown",
   "source": [
    "这样，一个文本序列表示为了矩阵，但每个文本长短不一，因此需要统一其长度，过长的截断，过短的则要填充。到这里就得到了可以输入到 LSTM 层的数据。\n",
    "\n",
    "## LSTM 层\n",
    "\n",
    "通过下面的代码来查看 LSTM 输入和输出的情况。"
   ],
   "metadata": {
    "collapsed": false,
    "pycharm": {
     "name": "#%% md\n"
    }
   }
  },
  {
   "cell_type": "code",
   "execution_count": 2,
   "outputs": [
    {
     "name": "stdout",
     "output_type": "stream",
     "text": [
      "input shape: torch.Size([3, 10, 5])\n",
      "last_layer_outputs shape:  torch.Size([3, 10, 6])\n",
      "last_hidden_states shape:  torch.Size([2, 3, 6])\n",
      "last_cell_states shape:  torch.Size([2, 3, 6])\n"
     ]
    }
   ],
   "source": [
    "# 每次输入的形状：(batch_size, seq_len, embedding_dim)\n",
    "# 即 `batch_size` 个文本，每个文本长度 `seq_len`，每个 token 表示为 `embedding_dim` 大小的向量\n",
    "batch_size = 3\n",
    "seq_len = 10\n",
    "embedding_dim = 5\n",
    "\n",
    "# LSTM 的参数\n",
    "n_layers = 2\n",
    "hidden_dim = 6\n",
    "lstm_layer = nn.LSTM(num_layers=n_layers,\n",
    "                     input_size=embedding_dim,\n",
    "                     hidden_size=hidden_dim,\n",
    "                     batch_first=True)\n",
    "\n",
    "# 这里测试一下输入和输出的样子\n",
    "inputs = torch.randn(batch_size, seq_len, embedding_dim)\n",
    "print(f'input shape: {inputs.shape}')\n",
    "\n",
    "hidden_state = torch.randn(n_layers, batch_size, hidden_dim)\n",
    "cell_state = torch.randn(n_layers, batch_size, hidden_dim)\n",
    "hidden = (hidden_state, cell_state)\n",
    "\n",
    "last_layer_outs, (last_hidden_states, last_cell_states) = lstm_layer(inputs, hidden)\n",
    "print(f'last_layer_outputs shape: ', last_layer_outs.shape)\n",
    "print(f'last_hidden_states shape: ', last_hidden_states.shape)\n",
    "print(f'last_cell_states shape: ', last_cell_states.shape)"
   ],
   "metadata": {
    "collapsed": false,
    "pycharm": {
     "name": "#%%\n"
    }
   }
  },
  {
   "cell_type": "markdown",
   "source": [
    "## 分类任务\n",
    "\n",
    "也就是说，LSTM 层的输出是各种隐藏状态，接下来需要通过这些隐藏状态实现分类。下面使用的是 LSTM 层返回值的第一部分，即最后一层的所有隐藏状态，将其连接到一个 `nn.Linear` 层，再辅以 `nn.Sigmoid`，因为这里要实现的是二分类。\n",
    "\n",
    "至此对数据在整个流程中的变化有所了解了，下面是具体的实现。\n",
    "\n",
    "# 代码实现\n",
    "\n",
    "## 加载数据"
   ],
   "metadata": {
    "collapsed": false,
    "pycharm": {
     "name": "#%% md\n"
    }
   }
  },
  {
   "cell_type": "code",
   "execution_count": 3,
   "outputs": [],
   "source": [
    "from collections import Counter\n",
    "\n",
    "import numpy as np\n",
    "import pandas as pd\n",
    "import matplotlib.pyplot as plt"
   ],
   "metadata": {
    "collapsed": false,
    "pycharm": {
     "name": "#%%\n"
    }
   }
  },
  {
   "cell_type": "code",
   "execution_count": 4,
   "outputs": [
    {
     "data": {
      "text/plain": "(200000,\n 1    100000\n 5    100000\n Name: Star, dtype: int64)"
     },
     "execution_count": 4,
     "metadata": {},
     "output_type": "execute_result"
    }
   ],
   "source": [
    "df = pd.read_csv('douban_movie_comments.csv', usecols=['Comment', 'Star'])\n",
    "len(df), df.Star.value_counts()"
   ],
   "metadata": {
    "collapsed": false,
    "pycharm": {
     "name": "#%%\n"
    }
   }
  },
  {
   "cell_type": "code",
   "execution_count": 5,
   "outputs": [
    {
     "data": {
      "text/plain": "(200000, 200000)"
     },
     "execution_count": 5,
     "metadata": {},
     "output_type": "execute_result"
    }
   ],
   "source": [
    "def preprocess_text(text):\n",
    "    return text.strip().lower()\n",
    "\n",
    "comments = [preprocess_text(c) for c in df.Comment]\n",
    "labels = [1 if star == 5 else 0 for star in df.Star]\n",
    "\n",
    "len(comments), len(labels)"
   ],
   "metadata": {
    "collapsed": false,
    "pycharm": {
     "name": "#%%\n"
    }
   }
  },
  {
   "cell_type": "code",
   "execution_count": 6,
   "outputs": [
    {
     "data": {
      "text/plain": "(140000, 30000, 30000, 30000)"
     },
     "execution_count": 6,
     "metadata": {},
     "output_type": "execute_result"
    }
   ],
   "source": [
    "from sklearn.model_selection import train_test_split\n",
    "\n",
    "train_comments, val_test_comments, train_labels, val_test_labels = train_test_split(comments, labels, test_size=0.3, shuffle=False)\n",
    "val_comments, test_comments, val_labels, test_labels = train_test_split(val_test_comments,\n",
    "                                                                        val_test_labels,\n",
    "                                                                        test_size=0.5,\n",
    "                                                                        shuffle=False)\n",
    "\n",
    "len(train_comments), len(val_comments), len(test_comments), len(val_labels)"
   ],
   "metadata": {
    "collapsed": false,
    "pycharm": {
     "name": "#%%\n"
    }
   }
  },
  {
   "cell_type": "markdown",
   "source": [
    "## 构建词汇表"
   ],
   "metadata": {
    "collapsed": false,
    "pycharm": {
     "name": "#%% md\n"
    }
   }
  },
  {
   "cell_type": "code",
   "execution_count": 7,
   "outputs": [],
   "source": [
    "from typing import List\n",
    "\n",
    "PADDING = '[PAD]'\n",
    "UNKNOWN = '[UNK]'\n",
    "\n",
    "\n",
    "def build_vocab(texts: List[str], tokenizer, min_token_freq=1):\n",
    "    c_tokens = Counter()\n",
    "    for text in texts:\n",
    "        for token in tokenizer(text):\n",
    "            c_tokens[token] += 1\n",
    "\n",
    "    if min_token_freq > 1:\n",
    "        c_tokens = Counter({k: v for k, v in c_tokens.items() if v >= MIN_FREQ})\n",
    "\n",
    "    vocab = [PADDING, UNKNOWN] + [w for w, _ in c_tokens.most_common()]\n",
    "    word2idx = {w: i for i, w in enumerate(vocab)}\n",
    "    idx2word = {i: w for w, i in word2idx.items()}\n",
    "    return word2idx, idx2word"
   ],
   "metadata": {
    "collapsed": false,
    "pycharm": {
     "name": "#%%\n"
    }
   }
  },
  {
   "cell_type": "code",
   "execution_count": 8,
   "outputs": [
    {
     "data": {
      "text/plain": "(5313, 5313)"
     },
     "execution_count": 8,
     "metadata": {},
     "output_type": "execute_result"
    }
   ],
   "source": [
    "MIN_FREQ = 2\n",
    "tokenizer=lambda text: list(text)\n",
    "\n",
    "word2idx, idx2word = build_vocab(train_comments,\n",
    "                                 tokenizer=tokenizer,\n",
    "                                 min_token_freq=MIN_FREQ)\n",
    "\n",
    "len(word2idx), len(idx2word)"
   ],
   "metadata": {
    "collapsed": false,
    "pycharm": {
     "name": "#%%\n"
    }
   }
  },
  {
   "cell_type": "markdown",
   "source": [
    "## 文本长度统计"
   ],
   "metadata": {
    "collapsed": false,
    "pycharm": {
     "name": "#%% md\n"
    }
   }
  },
  {
   "cell_type": "code",
   "execution_count": 9,
   "outputs": [
    {
     "name": "stdout",
     "output_type": "stream",
     "text": [
      "最大句子长度：196, 最小句子长度：1, 平均句子长度：33.95, 句子长度中位数：20.00\n",
      "            text_len\n",
      "count  140000.000000\n",
      "mean       33.946979\n",
      "std        35.106944\n",
      "min         1.000000\n",
      "25%        10.000000\n",
      "50%        20.000000\n",
      "75%        45.000000\n",
      "max       196.000000\n"
     ]
    }
   ],
   "source": [
    "text_lengths = [len(s) for s in train_comments]\n",
    "print('最大句子长度：{}, 最小句子长度：{}, 平均句子长度：{:.2f}, 句子长度中位数：{:.2f}'.format(\n",
    "    max(text_lengths), min(text_lengths), np.mean(text_lengths), np.median(text_lengths)))\n",
    "\n",
    "df_len = pd.DataFrame({'text_len': text_lengths})\n",
    "print(df_len.describe())"
   ],
   "metadata": {
    "collapsed": false,
    "pycharm": {
     "name": "#%%\n"
    }
   }
  },
  {
   "cell_type": "code",
   "execution_count": 10,
   "outputs": [
    {
     "data": {
      "text/plain": "<Figure size 432x288 with 1 Axes>",
      "image/png": "[encoded data removed]"
     },
     "metadata": {
      "needs_background": "light"
     },
     "output_type": "display_data"
    }
   ],
   "source": [
    "df_len.plot.hist('text_len',  grid=True, title='text length', bins=50);"
   ],
   "metadata": {
    "collapsed": false,
    "pycharm": {
     "name": "#%%\n"
    }
   }
  },
  {
   "cell_type": "markdown",
   "source": [
    "绝大多数句子程度都在 100 以下，因此序列长度设置为 100。\n",
    "\n",
    "## 文本的向量化"
   ],
   "metadata": {
    "collapsed": false,
    "pycharm": {
     "name": "#%% md\n"
    }
   }
  },
  {
   "cell_type": "code",
   "execution_count": 11,
   "outputs": [
    {
     "data": {
      "text/plain": "[853,\n 123,\n 39,\n 1189,\n 185,\n 41,\n 617,\n 514,\n 424,\n 173,\n 774,\n 1043,\n 2,\n 27,\n 13,\n 39,\n 23,\n 44,\n 94,\n 8,\n 29,\n 147,\n 64,\n 12,\n 94,\n 170,\n 29,\n 2,\n 52,\n 20,\n 47,\n 84,\n 26,\n 94,\n 238,\n 29,\n 170,\n 29,\n 12,\n 21,\n 94,\n 8,\n 29,\n 7,\n 4]"
     },
     "execution_count": 11,
     "metadata": {},
     "output_type": "execute_result"
    }
   ],
   "source": [
    "def text_to_vec(sent: str):\n",
    "    sent_word_ids = []\n",
    "    for word in tokenizer(sent):\n",
    "        sent_word_ids.append(word2idx.get(word) or word2idx[UNKNOWN])\n",
    "    return sent_word_ids\n",
    "\n",
    "train_vectors = [text_to_vec(sent) for sent in train_comments]\n",
    "val_vectors = [text_to_vec(sent) for sent in val_comments]\n",
    "test_vectors = [text_to_vec(sent) for sent in test_comments]\n",
    "\n",
    "# every sentence is a [word_id]\n",
    "train_vectors[0]"
   ],
   "metadata": {
    "collapsed": false,
    "pycharm": {
     "name": "#%%\n"
    }
   }
  },
  {
   "cell_type": "code",
   "execution_count": 12,
   "outputs": [
    {
     "data": {
      "text/plain": "((100,),\n array([   0,    0,    0,    0,    0,    0,    0,    0,    0,    0,    0,\n           0,    0,    0,    0,    0,    0,    0,    0,    0,    0,    0,\n           0,    0,    0,    0,    0,    0,    0,    0,    0,    0,    0,\n           0,    0,    0,    0,    0,    0,    0,    0,    0,    0,    0,\n           0,    0,    0,    0,    0,    0,    0,    0,    0,    0,    0,\n         853,  123,   39, 1189,  185,   41,  617,  514,  424,  173,  774,\n        1043,    2,   27,   13,   39,   23,   44,   94,    8,   29,  147,\n          64,   12,   94,  170,   29,    2,   52,   20,   47,   84,   26,\n          94,  238,   29,  170,   29,   12,   21,   94,    8,   29,    7,\n           4]))"
     },
     "execution_count": 12,
     "metadata": {},
     "output_type": "execute_result"
    }
   ],
   "source": [
    "# pad texts\n",
    "def pad_input(sent_vecs, seq_len):\n",
    "    features = np.full((len(sent_vecs), seq_len), fill_value=word2idx[PADDING], dtype=int)\n",
    "    for i, sent_vec in enumerate(sent_vecs):\n",
    "        if len(sent_vec) != 0:\n",
    "            features[i, -len(sent_vec):] = np.array(sent_vec)[:seq_len]\n",
    "    return features\n",
    "\n",
    "\n",
    "seq_len = 100\n",
    "train_vectors = pad_input(train_vectors, seq_len)\n",
    "val_vectors = pad_input(val_vectors, seq_len)\n",
    "test_vectors = pad_input(test_vectors, seq_len)\n",
    "\n",
    "train_vectors[0].shape, train_vectors[0]"
   ],
   "metadata": {
    "collapsed": false,
    "pycharm": {
     "name": "#%%\n"
    }
   }
  },
  {
   "cell_type": "code",
   "execution_count": 13,
   "outputs": [
    {
     "data": {
      "text/plain": "(140000, 30000, 30000)"
     },
     "execution_count": 13,
     "metadata": {},
     "output_type": "execute_result"
    }
   ],
   "source": [
    "train_labels = np.array(train_labels)\n",
    "val_labels = np.array(val_labels)\n",
    "test_labels = np.array(test_labels)\n",
    "\n",
    "len(train_labels), len(val_labels), len(test_labels)"
   ],
   "metadata": {
    "collapsed": false,
    "pycharm": {
     "name": "#%%\n"
    }
   }
  },
  {
   "cell_type": "markdown",
   "source": [
    "## 准备模型"
   ],
   "metadata": {
    "collapsed": false,
    "pycharm": {
     "name": "#%% md\n"
    }
   }
  },
  {
   "cell_type": "code",
   "execution_count": 14,
   "outputs": [],
   "source": [
    "import torch\n",
    "import torch.nn as nn\n",
    "\n",
    "from torch.utils.data import TensorDataset, DataLoader"
   ],
   "metadata": {
    "collapsed": false,
    "pycharm": {
     "name": "#%%\n"
    }
   }
  },
  {
   "cell_type": "code",
   "execution_count": 15,
   "outputs": [],
   "source": [
    "batch_size = 256\n",
    "\n",
    "train_data = TensorDataset(torch.from_numpy(train_vectors), torch.from_numpy(train_labels))\n",
    "val_data = TensorDataset(torch.from_numpy(val_vectors), torch.from_numpy(val_labels))\n",
    "test_data = TensorDataset(torch.from_numpy(test_vectors), torch.from_numpy(test_labels))\n",
    "\n",
    "train_loader = DataLoader(train_data, shuffle=True, batch_size=batch_size, drop_last=True)\n",
    "val_loader = DataLoader(val_data, shuffle=True, batch_size=batch_size, drop_last=True)\n",
    "test_loader = DataLoader(test_data, shuffle=True, batch_size=batch_size, drop_last=True)"
   ],
   "metadata": {
    "collapsed": false,
    "pycharm": {
     "name": "#%%\n"
    }
   }
  },
  {
   "cell_type": "code",
   "execution_count": 16,
   "outputs": [
    {
     "data": {
      "text/plain": "device(type='cpu')"
     },
     "execution_count": 16,
     "metadata": {},
     "output_type": "execute_result"
    }
   ],
   "source": [
    "# check GPUs\n",
    "is_cuda = torch.cuda.is_available()\n",
    "\n",
    "if is_cuda:\n",
    "    device = torch.device('cuda')\n",
    "else:\n",
    "    device = torch.device('cpu')\n",
    "device"
   ],
   "metadata": {
    "collapsed": false,
    "pycharm": {
     "name": "#%%\n"
    }
   }
  },
  {
   "cell_type": "code",
   "execution_count": 17,
   "outputs": [],
   "source": [
    "# define layer\n",
    "class SentimentNet(nn.Module):\n",
    "    def __init__(self, vocab_size, output_size, embedding_dim, hidden_dim, n_layers, drop_prob=0.5):\n",
    "        super(SentimentNet, self).__init__()\n",
    "        self.output_size = output_size\n",
    "        self.n_layers = n_layers\n",
    "        self.hidden_dim = hidden_dim\n",
    "\n",
    "        self.embedding = nn.Embedding(vocab_size, embedding_dim)\n",
    "        self.lstm = nn.LSTM(num_layers=n_layers, input_size=embedding_dim, hidden_size=hidden_dim,\n",
    "                            dropout=drop_prob,\n",
    "                            batch_first=True)\n",
    "        self.dropout = nn.Dropout(drop_prob)\n",
    "        self.fc = nn.Linear(hidden_dim, output_size)\n",
    "        self.sigmoid = nn.Sigmoid()\n",
    "\n",
    "    def forward(self, x, hidden):\n",
    "        #print(f'x size: {x.shape}')\n",
    "        batch_size = x.size(0)\n",
    "        x = x.long()\n",
    "        embeds = self.embedding(x)\n",
    "\n",
    "        # lstm_out shape: (batch_size, seq_len, hidden_size)\n",
    "        lstm_out, hidden = self.lstm(embeds, hidden)\n",
    "        lstm_out = lstm_out.contiguous().view(-1, self.hidden_dim)\n",
    "\n",
    "        out = self.dropout(lstm_out)\n",
    "        # out shape -> (batch_size * seq_len, 1)\n",
    "        out = self.fc(out)\n",
    "        out = self.sigmoid(out)\n",
    "\n",
    "        # out shape -> (batch_size, seq_len)\n",
    "        out = out.view(batch_size, -1)\n",
    "        # out shape -> (batch_size,)\n",
    "        out = out[:, -1]\n",
    "        return out, hidden\n",
    "\n",
    "    def init_hidden(self, batch_size):\n",
    "        weight = next(self.parameters()).data\n",
    "        hidden = (weight.new(self.n_layers, batch_size, self.hidden_dim).zero_().to(device),\n",
    "                  weight.new(self.n_layers, batch_size, self.hidden_dim).zero_().to(device))\n",
    "        return hidden"
   ],
   "metadata": {
    "collapsed": false,
    "pycharm": {
     "name": "#%%\n"
    }
   }
  },
  {
   "cell_type": "code",
   "execution_count": 18,
   "outputs": [
    {
     "data": {
      "text/plain": "SentimentNet(\n  (embedding): Embedding(5313, 50)\n  (lstm): LSTM(50, 32, num_layers=2, batch_first=True, dropout=0.5)\n  (dropout): Dropout(p=0.5, inplace=False)\n  (fc): Linear(in_features=32, out_features=1, bias=True)\n  (sigmoid): Sigmoid()\n)"
     },
     "execution_count": 18,
     "metadata": {},
     "output_type": "execute_result"
    }
   ],
   "source": [
    "vocab_size = len(word2idx)\n",
    "output_size = 1\n",
    "embedding_dim = 50\n",
    "hidden_dim = 32\n",
    "n_layers = 2\n",
    "\n",
    "model = SentimentNet(vocab_size, output_size, embedding_dim, hidden_dim, n_layers)\n",
    "model.to(device)\n",
    "\n",
    "lr = 0.01\n",
    "criterion = nn.BCELoss()\n",
    "optimizer = torch.optim.Adam(model.parameters(), lr=lr)\n",
    "\n",
    "model"
   ],
   "metadata": {
    "collapsed": false,
    "pycharm": {
     "name": "#%%\n"
    }
   }
  },
  {
   "cell_type": "markdown",
   "source": [
    "## 训练模型"
   ],
   "metadata": {
    "collapsed": false,
    "pycharm": {
     "name": "#%% md\n"
    }
   }
  },
  {
   "cell_type": "code",
   "execution_count": 19,
   "outputs": [
    {
     "name": "stdout",
     "output_type": "stream",
     "text": [
      "Epoch: 1/3... Step: 100... Loss: 0.405695... Val Loss: 0.400934 Time elapsed: 23.160\n",
      "Validation loss decreased (inf --> 0.400934).  Saving model ...\n",
      "Epoch: 1/3... Step: 200... Loss: 0.408278... Val Loss: 0.351721 Time elapsed: 46.190\n",
      "Validation loss decreased (0.400934 --> 0.351721).  Saving model ...\n",
      "Epoch: 1/3... Step: 300... Loss: 0.419433... Val Loss: 0.315268 Time elapsed: 69.263\n",
      "Validation loss decreased (0.351721 --> 0.315268).  Saving model ...\n",
      "Epoch: 1/3... Step: 400... Loss: 0.339693... Val Loss: 0.294527 Time elapsed: 92.483\n",
      "Validation loss decreased (0.315268 --> 0.294527).  Saving model ...\n",
      "Epoch: 1/3... Step: 500... Loss: 0.255131... Val Loss: 0.284580 Time elapsed: 115.489\n",
      "Validation loss decreased (0.294527 --> 0.284580).  Saving model ...\n",
      "Epoch: 2/3... Step: 600... Loss: 0.340236... Val Loss: 0.281590 Time elapsed: 138.568\n",
      "Validation loss decreased (0.284580 --> 0.281590).  Saving model ...\n",
      "Epoch: 2/3... Step: 700... Loss: 0.294741... Val Loss: 0.290420 Time elapsed: 161.933\n",
      "Epoch: 2/3... Step: 800... Loss: 0.204488... Val Loss: 0.277600 Time elapsed: 184.935\n",
      "Validation loss decreased (0.281590 --> 0.277600).  Saving model ...\n",
      "Epoch: 2/3... Step: 900... Loss: 0.265462... Val Loss: 0.270833 Time elapsed: 207.921\n",
      "Validation loss decreased (0.277600 --> 0.270833).  Saving model ...\n",
      "Epoch: 2/3... Step: 1000... Loss: 0.217337... Val Loss: 0.266721 Time elapsed: 231.032\n",
      "Validation loss decreased (0.270833 --> 0.266721).  Saving model ...\n",
      "Epoch: 3/3... Step: 1100... Loss: 0.251273... Val Loss: 0.263820 Time elapsed: 254.530\n",
      "Validation loss decreased (0.266721 --> 0.263820).  Saving model ...\n",
      "Epoch: 3/3... Step: 1200... Loss: 0.271364... Val Loss: 0.266794 Time elapsed: 277.541\n",
      "Epoch: 3/3... Step: 1300... Loss: 0.272219... Val Loss: 0.266256 Time elapsed: 300.730\n",
      "Epoch: 3/3... Step: 1400... Loss: 0.295436... Val Loss: 0.258578 Time elapsed: 323.751\n",
      "Validation loss decreased (0.263820 --> 0.258578).  Saving model ...\n",
      "Epoch: 3/3... Step: 1500... Loss: 0.258546... Val Loss: 0.267271 Time elapsed: 346.952\n",
      "Epoch: 3/3... Step: 1600... Loss: 0.287733... Val Loss: 0.258747 Time elapsed: 369.864\n"
     ]
    }
   ],
   "source": [
    "import time\n",
    "\n",
    "epochs = 3\n",
    "counter = 0\n",
    "print_every = 100\n",
    "clip = 5\n",
    "valid_loss_min = np.Inf\n",
    "\n",
    "start = time.time()\n",
    "model.train()\n",
    "for i in range(epochs):\n",
    "    h = model.init_hidden(batch_size)\n",
    "\n",
    "    for inputs, labels in train_loader:\n",
    "        counter += 1\n",
    "        h = tuple([e.data for e in h])\n",
    "        inputs, labels = inputs.to(device), labels.to(device)\n",
    "        model.zero_grad()\n",
    "        output, h = model(inputs, h)\n",
    "        loss = criterion(output.squeeze(), labels.float())\n",
    "        loss.backward()\n",
    "        nn.utils.clip_grad_norm_(model.parameters(), clip)\n",
    "        optimizer.step()\n",
    "\n",
    "        if counter % print_every == 0:\n",
    "            val_h = model.init_hidden(batch_size)\n",
    "            val_losses = []\n",
    "            model.eval()\n",
    "            for inp, lab in val_loader:\n",
    "                val_h = tuple([each.data for each in val_h])\n",
    "                inp, lab = inp.to(device), lab.to(device)\n",
    "                out, val_h = model(inp, val_h)\n",
    "                val_loss = criterion(out.squeeze(), lab.float())\n",
    "                val_losses.append(val_loss.item())\n",
    "\n",
    "            model.train()\n",
    "            print(\"Epoch: {}/{}...\".format(i+1, epochs),\n",
    "                  \"Step: {}...\".format(counter),\n",
    "                  \"Loss: {:.6f}...\".format(loss.item()),\n",
    "                  \"Val Loss: {:.6f}\".format(np.mean(val_losses)),\n",
    "                  \"Time elapsed: {:.3f}\".format(time.time() - start))\n",
    "            if np.mean(val_losses) <= valid_loss_min:\n",
    "                torch.save(model.state_dict(), './state_dict.pt')\n",
    "                print('Validation loss decreased ({:.6f} --> {:.6f}).  Saving model ...'.format(valid_loss_min,np.mean(val_losses)))\n",
    "                valid_loss_min = np.mean(val_losses)"
   ],
   "metadata": {
    "collapsed": false,
    "pycharm": {
     "name": "#%%\n"
    }
   }
  },
  {
   "cell_type": "markdown",
   "source": [
    "## 模型加载"
   ],
   "metadata": {
    "collapsed": false,
    "pycharm": {
     "name": "#%% md\n"
    }
   }
  },
  {
   "cell_type": "code",
   "execution_count": 20,
   "outputs": [
    {
     "name": "stdout",
     "output_type": "stream",
     "text": [
      "Test loss: 0.254\n",
      "Test accuracy: 89.533%\n"
     ]
    }
   ],
   "source": [
    "# Loading the best model\n",
    "model.load_state_dict(torch.load('./state_dict.pt'))\n",
    "\n",
    "test_losses = []\n",
    "num_correct = 0\n",
    "h = model.init_hidden(batch_size)\n",
    "\n",
    "model.eval()\n",
    "for inputs, labels in test_loader:\n",
    "    h = tuple([each.data for each in h])\n",
    "    inputs, labels = inputs.to(device), labels.to(device)\n",
    "    output, h = model(inputs, h)\n",
    "    test_loss = criterion(output.squeeze(), labels.float())\n",
    "    test_losses.append(test_loss.item())\n",
    "    pred = torch.round(output.squeeze())  # Rounds the output to 0/1\n",
    "    correct_tensor = pred.eq(labels.float().view_as(pred))\n",
    "    correct = np.squeeze(correct_tensor.cpu().numpy())\n",
    "    num_correct += np.sum(correct)\n",
    "\n",
    "print(\"Test loss: {:.3f}\".format(np.mean(test_losses)))\n",
    "test_acc = num_correct/len(test_loader.dataset)\n",
    "print(\"Test accuracy: {:.3f}%\".format(test_acc * 100))"
   ],
   "metadata": {
    "collapsed": false,
    "pycharm": {
     "name": "#%%\n"
    }
   }
  },
  {
   "cell_type": "markdown",
   "source": [
    "## 预测"
   ],
   "metadata": {
    "collapsed": false,
    "pycharm": {
     "name": "#%% md\n"
    }
   }
  },
  {
   "cell_type": "code",
   "execution_count": 21,
   "outputs": [],
   "source": [
    "def predict_labels(sents: List[str]):\n",
    "    test_sent_words = [tokenizer(sent) for sent in sents]\n",
    "    test_vecs = [[word2idx.get(w) or word2idx.get(UNKNOWN) for w in words] for words in test_sent_words]\n",
    "    test_vecs = pad_input(test_vecs, seq_len)\n",
    "\n",
    "    model.eval()\n",
    "\n",
    "    test_h = model.init_hidden(len(test_sents))\n",
    "    test_output, test_h = model(torch.from_numpy(test_vecs), test_h)\n",
    "    test_pred = torch.round(test_output.squeeze())\n",
    "\n",
    "    predicted = []\n",
    "    for pred, prob in zip(test_pred, test_output.squeeze()):\n",
    "        predicted.append({'label': pred.item(), 'prob': prob.item()})\n",
    "    return predicted"
   ],
   "metadata": {
    "collapsed": false,
    "pycharm": {
     "name": "#%%\n"
    }
   }
  },
  {
   "cell_type": "code",
   "execution_count": 22,
   "outputs": [
    {
     "name": "stdout",
     "output_type": "stream",
     "text": [
      "0 0.005 史上最烂的电影，没有之一\n",
      "1 0.997 我最喜欢的电影，太棒了\n",
      "0 0.012 不打一星对不起我的电影票钱\n",
      "0 0.008 无语\n",
      "0 0.010 无力吐槽\n",
      "0 0.231 不是我喜欢的类型\n",
      "1 0.968 要推荐给所有朋友\n",
      "0 0.229 不会推荐给任何朋友\n",
      "1 0.935 居然看哭了！\n",
      "0 0.039 我想我以后不会再看这个导演的作品了\n"
     ]
    }
   ],
   "source": [
    "test_sents = ['史上最烂的电影，没有之一',\n",
    "              '我最喜欢的电影，太棒了',\n",
    "              '不打一星对不起我的电影票钱',\n",
    "              '无语',\n",
    "              '无力吐槽',\n",
    "              '不是我喜欢的类型',\n",
    "              '要推荐给所有朋友',\n",
    "              '不会推荐给任何朋友',\n",
    "              '居然看哭了！',\n",
    "              '我想我以后不会再看这个导演的作品了']\n",
    "\n",
    "predicted = predict_labels(test_sents)\n",
    "for pred, sent in zip(predicted, test_sents):\n",
    "    print(int(pred['label']), f'{pred[\"prob\"]:.3f}', sent)"
   ],
   "metadata": {
    "collapsed": false,
    "pycharm": {
     "name": "#%%\n"
    }
   }
  },
  {
   "cell_type": "code",
   "execution_count": 22,
   "outputs": [],
   "source": [],
   "metadata": {
    "collapsed": false,
    "pycharm": {
     "name": "#%%\n"
    }
   }
  }
 ],
 "metadata": {
  "kernelspec": {
   "display_name": "Python 3",
   "language": "python",
   "name": "python3"
  },
  "language_info": {
   "codemirror_mode": {
    "name": "ipython",
    "version": 2
   },
   "file_extension": ".py",
   "mimetype": "text/x-python",
   "name": "python",
   "nbconvert_exporter": "python",
   "pygments_lexer": "ipython2",
   "version": "2.7.6"
  }
 },
 "nbformat": 4,
 "nbformat_minor": 0
}